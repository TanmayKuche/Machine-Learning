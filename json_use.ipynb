{
 "cells": [
  {
   "cell_type": "code",
   "execution_count": 2,
   "id": "650159dc-087e-4819-9303-17a58a84cef4",
   "metadata": {},
   "outputs": [],
   "source": [
    "import pandas as pd"
   ]
  },
  {
   "cell_type": "code",
   "execution_count": 3,
   "id": "7fce9dc9-6cb9-4ac8-a54b-93c455d283ad",
   "metadata": {},
   "outputs": [],
   "source": [
    "df = pd.read_json('train.json')"
   ]
  },
  {
   "cell_type": "raw",
   "id": "acf1aae0-d884-4bab-b00b-3e747011eb5c",
   "metadata": {},
   "source": [
    "pd.read_json('api_link')\n",
    "to fetch daat using link"
   ]
  },
  {
   "cell_type": "code",
   "execution_count": null,
   "id": "13ce8eb7-6cd3-49ef-ba8b-f07394b052b6",
   "metadata": {},
   "outputs": [],
   "source": []
  },
  {
   "cell_type": "markdown",
   "id": "fe4ae54d-9933-4d5e-8a2d-e422e485a984",
   "metadata": {},
   "source": [
    "### SQL"
   ]
  },
  {
   "cell_type": "code",
   "execution_count": null,
   "id": "4c83a43f-a524-4e14-b5df-4c4b28edd90d",
   "metadata": {},
   "outputs": [],
   "source": []
  }
 ],
 "metadata": {
  "kernelspec": {
   "display_name": "Python [conda env:base] *",
   "language": "python",
   "name": "conda-base-py"
  },
  "language_info": {
   "codemirror_mode": {
    "name": "ipython",
    "version": 3
   },
   "file_extension": ".py",
   "mimetype": "text/x-python",
   "name": "python",
   "nbconvert_exporter": "python",
   "pygments_lexer": "ipython3",
   "version": "3.13.5"
  }
 },
 "nbformat": 4,
 "nbformat_minor": 5
}
